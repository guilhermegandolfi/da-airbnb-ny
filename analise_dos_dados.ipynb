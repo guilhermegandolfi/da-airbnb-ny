{
 "metadata": {
  "language_info": {
   "codemirror_mode": {
    "name": "ipython",
    "version": 3
   },
   "file_extension": ".py",
   "mimetype": "text/x-python",
   "name": "python",
   "nbconvert_exporter": "python",
   "pygments_lexer": "ipython3",
   "version": "3.6.9-final"
  },
  "orig_nbformat": 2,
  "kernelspec": {
   "name": "python_defaultSpec_1597887137053",
   "display_name": "Python 3.6.9 64-bit"
  }
 },
 "nbformat": 4,
 "nbformat_minor": 2,
 "cells": [
  {
   "cell_type": "code",
   "execution_count": 1,
   "metadata": {},
   "outputs": [],
   "source": [
    "import pandas as pd"
   ]
  },
  {
   "cell_type": "code",
   "execution_count": 3,
   "metadata": {},
   "outputs": [],
   "source": [
    "# carrega dataframe\n",
    "df = pd.read_csv('/home/guilherme/Documentos/projetos_git/da-airbnb-ny/in/AB_NYC_2019.csv')"
   ]
  },
  {
   "cell_type": "code",
   "execution_count": 4,
   "metadata": {
    "tags": []
   },
   "outputs": [
    {
     "output_type": "stream",
     "name": "stdout",
     "text": "id                                  int64\nname                               object\nhost_id                             int64\nhost_name                          object\nneighbourhood_group                object\nneighbourhood                      object\nlatitude                          float64\nlongitude                         float64\nroom_type                          object\nprice                               int64\nminimum_nights                      int64\nnumber_of_reviews                   int64\nlast_review                        object\nreviews_per_month                 float64\ncalculated_host_listings_count      int64\navailability_365                    int64\ndtype: object\n"
    }
   ],
   "source": [
    "# analisando tipos dos dados\n",
    "print (df.dtypes)"
   ]
  },
  {
   "cell_type": "code",
   "execution_count": 5,
   "metadata": {
    "tags": []
   },
   "outputs": [
    {
     "output_type": "stream",
     "name": "stdout",
     "text": "0           Brooklyn\n1          Manhattan\n46            Queens\n169    Staten Island\n171            Bronx\nName: neighbourhood_group, dtype: object\n"
    }
   ],
   "source": [
    "# analise do bairro\n",
    "print (df['neighbourhood_group'].drop_duplicates())"
   ]
  },
  {
   "cell_type": "code",
   "execution_count": null,
   "metadata": {},
   "outputs": [],
   "source": []
  }
 ]
}